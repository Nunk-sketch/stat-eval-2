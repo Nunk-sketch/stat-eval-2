{
 "cells": [
  {
   "cell_type": "code",
   "execution_count": null,
   "id": "739374c9",
   "metadata": {},
   "outputs": [],
   "source": [
    "import pandas as pd\n",
    "from scipy.stats import pearsonr\n",
    "import matplotlib.pyplot as plt\n",
    "import os\n",
    "\n",
    "# categories\n",
    "categories = [\"STEM\", \"FAQ\", \"RIDDLES\", \"CREATIVE PROMPTS\", \"MULTIPLE\", \"NON\"]\n",
    "\n",
    "# results\n",
    "results = []\n",
    "\n",
    "# processing for Gemini 2.0\n",
    "for cat in categories:\n",
    "    path = f\"Project-statistical-eval/proportions2.0/{cat}_2.0_proportions.csv\"\n",
    "    if os.path.exists(path):\n",
    "        df = pd.read_csv(path)\n",
    "        df[\"total_words\"] = pd.to_numeric(df[\"total_words\"], errors=\"coerce\")\n",
    "        df[\"english_only\"] = pd.to_numeric(df[\"english_only\"], errors=\"coerce\")\n",
    "        df_clean = df[[\"total_words\", \"english_only\"]].dropna()\n",
    "\n",
    "        if not df_clean.empty:\n",
    "            pearson_r, pearson_p = pearsonr(df_clean[\"total_words\"], df_clean[\"english_only\"])\n",
    "            results.append({\"Category\": cat, \"Pearson r\": round(pearson_r, 4), \"p-value\": round(pearson_p, 4)})\n",
    "\n",
    "            # save the figures\n",
    "            plt.figure()\n",
    "            plt.scatter(df_clean[\"total_words\"], df_clean[\"english_only\"], alpha=0.6)\n",
    "            plt.xlabel(\"Total Words\")\n",
    "            plt.ylabel(\"English-Only Words\")\n",
    "            plt.title(f\"{cat} (Gemini 2.0) — Prompt Length vs English Usage\")\n",
    "            plt.grid(True)\n",
    "            plt.savefig(f\"{cat}_2.0_scatter.png\")\n",
    "            plt.close()"
   ]
  },
  {
   "cell_type": "code",
   "execution_count": 2,
   "id": "20b4690b",
   "metadata": {},
   "outputs": [
    {
     "data": {
      "text/html": [
       "<div>\n",
       "<style scoped>\n",
       "    .dataframe tbody tr th:only-of-type {\n",
       "        vertical-align: middle;\n",
       "    }\n",
       "\n",
       "    .dataframe tbody tr th {\n",
       "        vertical-align: top;\n",
       "    }\n",
       "\n",
       "    .dataframe thead th {\n",
       "        text-align: right;\n",
       "    }\n",
       "</style>\n",
       "<table border=\"1\" class=\"dataframe\">\n",
       "  <thead>\n",
       "    <tr style=\"text-align: right;\">\n",
       "      <th></th>\n",
       "      <th>Category</th>\n",
       "      <th>Pearson r</th>\n",
       "      <th>p-value</th>\n",
       "    </tr>\n",
       "  </thead>\n",
       "  <tbody>\n",
       "    <tr>\n",
       "      <th>0</th>\n",
       "      <td>STEM</td>\n",
       "      <td>0.3194</td>\n",
       "      <td>0.0000</td>\n",
       "    </tr>\n",
       "    <tr>\n",
       "      <th>1</th>\n",
       "      <td>FAQ</td>\n",
       "      <td>0.0970</td>\n",
       "      <td>0.0202</td>\n",
       "    </tr>\n",
       "    <tr>\n",
       "      <th>2</th>\n",
       "      <td>RIDDLES</td>\n",
       "      <td>0.0675</td>\n",
       "      <td>0.1119</td>\n",
       "    </tr>\n",
       "    <tr>\n",
       "      <th>3</th>\n",
       "      <td>CREATIVE PROMPTS</td>\n",
       "      <td>-0.0425</td>\n",
       "      <td>0.2961</td>\n",
       "    </tr>\n",
       "    <tr>\n",
       "      <th>4</th>\n",
       "      <td>MULTIPLE</td>\n",
       "      <td>0.0294</td>\n",
       "      <td>0.7971</td>\n",
       "    </tr>\n",
       "    <tr>\n",
       "      <th>5</th>\n",
       "      <td>NON</td>\n",
       "      <td>0.2449</td>\n",
       "      <td>0.0000</td>\n",
       "    </tr>\n",
       "  </tbody>\n",
       "</table>\n",
       "</div>"
      ],
      "text/plain": [
       "           Category  Pearson r  p-value\n",
       "0              STEM     0.3194   0.0000\n",
       "1               FAQ     0.0970   0.0202\n",
       "2           RIDDLES     0.0675   0.1119\n",
       "3  CREATIVE PROMPTS    -0.0425   0.2961\n",
       "4          MULTIPLE     0.0294   0.7971\n",
       "5               NON     0.2449   0.0000"
      ]
     },
     "execution_count": 2,
     "metadata": {},
     "output_type": "execute_result"
    }
   ],
   "source": [
    "result_df = pd.DataFrame(results)\n",
    "result_df"
   ]
  },
  {
   "cell_type": "code",
   "execution_count": null,
   "id": "f1d515f2",
   "metadata": {},
   "outputs": [],
   "source": []
  }
 ],
 "metadata": {
  "kernelspec": {
   "display_name": "Python 3 (ipykernel)",
   "language": "python",
   "name": "python3"
  },
  "language_info": {
   "codemirror_mode": {
    "name": "ipython",
    "version": 3
   },
   "file_extension": ".py",
   "mimetype": "text/x-python",
   "name": "python",
   "nbconvert_exporter": "python",
   "pygments_lexer": "ipython3",
   "version": "3.9.12"
  }
 },
 "nbformat": 4,
 "nbformat_minor": 5
}
